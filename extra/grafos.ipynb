{
 "cells": [
  {
   "cell_type": "code",
   "execution_count": null,
   "metadata": {},
   "outputs": [],
   "source": [
    "#Librerias\n",
    "import networkx as nx\n",
    "import matplotlib.pyplot as plt\n",
    "import csv\n",
    "import numpy as np\n",
    "#Nombre archivo\n",
    "N_archivo='ciudades.csv'"
   ]
  },
  {
   "cell_type": "code",
   "execution_count": null,
   "metadata": {},
   "outputs": [],
   "source": [
    "def leer_archivos():\n",
    "    with open(N_archivo) as file:\n",
    "        leidos = list(csv.reader(file))\n",
    "        leidos=leidos[1:]\n",
    "    for i in range(len(leidos)):\n",
    "       leidos[i]=list(map(int, leidos[i]))\n",
    "    print(leidos)\n",
    "    return leidos"
   ]
  },
  {
   "cell_type": "code",
   "execution_count": null,
   "metadata": {},
   "outputs": [],
   "source": [
    "def imprimir_grafo(G):\n",
    "    nx.draw(G, with_labels=True)\n",
    "    plt.show()"
   ]
  },
  {
   "cell_type": "code",
   "execution_count": null,
   "metadata": {},
   "outputs": [],
   "source": [
    "def buscar_columnas(datos):\n",
    "    columnas=[]\n",
    "    columnas.append(datos[0][0])\n",
    "    for i in range(len(datos)):\n",
    "        try:\n",
    "            columnas.index(datos[i][0])\n",
    "        except ValueError:\n",
    "            columnas.append(datos[i][0])\n",
    "        try:\n",
    "            columnas.index(datos[i][1])\n",
    "        except ValueError:\n",
    "            columnas.append(datos[i][1])\n",
    "    return columnas\n"
   ]
  },
  {
   "cell_type": "code",
   "execution_count": null,
   "metadata": {},
   "outputs": [],
   "source": [
    "def crear_matriz(datos):\n",
    "    columnas=buscar_columnas(datos)\n",
    "    matriz=[]\n",
    "    for i in range(len(columnas)):\n",
    "        matriz.append([0]*len(columnas))\n",
    "    for nodo in datos:\n",
    "        a=columnas.index(nodo[0])\n",
    "        b=columnas.index(nodo[1])\n",
    "        matriz[a][b]=matriz[b][a]=nodo[2]\n",
    "\n",
    "crear_matriz(leer_archivos())"
   ]
  },
  {
   "cell_type": "code",
   "execution_count": null,
   "metadata": {},
   "outputs": [],
   "source": [
    "def main():\n",
    "    G=nx.Graph() #Crear grafo\n",
    "    datos=leer_archivos()\n",
    "    #matriz=crear_matriz(datos)\n",
    "    \n",
    "    print(datos)\n",
    "    print(matriz)"
   ]
  },
  {
   "cell_type": "code",
   "execution_count": null,
   "metadata": {},
   "outputs": [],
   "source": [
    "d=[1,2,3,4,5,6,7]\n",
    "print(len(d))"
   ]
  },
  {
   "cell_type": "code",
   "execution_count": null,
   "metadata": {},
   "outputs": [],
   "source": [
    "from itertools import permutations\n",
    "M=buscar_columnas(leer_archivos())\n",
    "combinaciones=[]\n",
    "print(\"Permutaciones\")\n",
    "for comb in permutations(M,len(M)):\n",
    "    combinaciones.append(list(comb))\n",
    "for comb in combinaciones:\n",
    "    print(comb)"
   ]
  },
  {
   "cell_type": "code",
   "execution_count": null,
   "metadata": {},
   "outputs": [],
   "source": [
    "def validar_camino(ruta, matriz, nodos):\n",
    "    for i in range(0,len(ruta)-1):\n",
    "        a=nodos.index(ruta[i])\n",
    "        b=nodos.index(ruta[i+1])\n",
    "        if matriz[a][b]==0:\n",
    "            return False\n",
    "        return True\n",
    "M=crear_matriz(leer_archivos())\n",
    "col=buscar_columnas(leer_archivos())\n",
    "a=validar_camino((1,2,3,4,5),M,col)\n",
    "print(a)"
   ]
  }
 ],
 "metadata": {
  "interpreter": {
   "hash": "aee8b7b246df8f9039afb4144a1f6fd8d2ca17a180786b69acc140d282b71a49"
  },
  "kernelspec": {
   "display_name": "Python 3.10.4 64-bit",
   "language": "python",
   "name": "python3"
  },
  "language_info": {
   "codemirror_mode": {
    "name": "ipython",
    "version": 3
   },
   "file_extension": ".py",
   "mimetype": "text/x-python",
   "name": "python",
   "nbconvert_exporter": "python",
   "pygments_lexer": "ipython3",
   "version": "3.10.4"
  },
  "orig_nbformat": 4
 },
 "nbformat": 4,
 "nbformat_minor": 2
}
